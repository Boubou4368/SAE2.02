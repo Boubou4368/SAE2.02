{
 "cells": [
  {
   "cell_type": "markdown",
   "id": "104303b1",
   "metadata": {},
   "source": [
    "## Partie 1 : PageRank - version itérative, premier exemple"
   ]
  },
  {
   "cell_type": "markdown",
   "id": "47115d81",
   "metadata": {},
   "source": [
    "##### 1. Justifier pourquoi l’algorithme de la puissance iterérée permet de calculer le score de chacune des pages. \n",
    "\n",
    "Dans un premier temps il faut que la matrice symbolysant le web soit une matrice stochastique, c'est une matrice de probabilité ou la somme de chaque colonne doit être égal à 1, elle traduit la probabilité de se rendre sur une autre page depuis la page courante. En appliquant l'algorythme de puissance itértée sur celle-ci on obtient des vecteurs propre pour chaque point de la matrice. Ces vecteurs nous donne la probabilité de se retrouvé sur une page apres tant d'itération. Plus sa valeur est grande plus la page est fréquemment visité au cour des itérations.    \n",
    "\n"
   ]
  },
  {
   "cell_type": "code",
   "execution_count": 2,
   "id": "241b560f",
   "metadata": {},
   "outputs": [],
   "source": [
    "from random import randint\n",
    "import numpy as np\n",
    "from math import sqrt"
   ]
  },
  {
   "cell_type": "code",
   "execution_count": 3,
   "id": "4f3a8e5d",
   "metadata": {},
   "outputs": [
    {
     "name": "stdout",
     "output_type": "stream",
     "text": [
      "3.605551275463989\n"
     ]
    }
   ],
   "source": [
    "#fonction pour la norme\n",
    "def norme(X:np.array):\n",
    "    sum = 0 \n",
    "    for x in X:\n",
    "        sum += x**2\n",
    "    return np.sqrt(sum)\n",
    "\n",
    "V = np.array([2,0,0,3])\n",
    "print(norme(V))"
   ]
  },
  {
   "cell_type": "code",
   "execution_count": null,
   "id": "c605152a",
   "metadata": {},
   "outputs": [
    {
     "name": "stdout",
     "output_type": "stream",
     "text": [
      "Vecteur propre approximé : [0.94868329 0.31622778]\n",
      "Valeur propre approximée : 2.999999907077707\n",
      "--------------------------------------\n",
      "Vecteur propre approximé : [0.78842354 0.57760174 0.21157637]\n",
      "Valeur propre approximée : 4.732050139370267\n",
      "--------------------------------------\n",
      "Vecteur propre approximé : [0.77819102 0.57959393 0.23367394 0.06233864]\n",
      "Valeur propre approximée : 4.745280688519943\n",
      "Help on function puissanceItere in module __main__:\n",
      "\n",
      "puissanceItere(l, A: <built-in function array>)\n",
      "    Fonction qui applique l'algorithme de puissance itérée sur une matrice. \n",
      "    Matrice de toutes tailles, stochastique ou non\n",
      "\n"
     ]
    }
   ],
   "source": [
    "\n",
    "def puissanceItere(l,A:np.array):\n",
    "   \"\"\"Fonction qui applique l'algorithme de puissance itérée sur une matrice. \n",
    "   Matrice de toutes tailles, stochastique ou non\"\"\"\n",
    "   X = np.array([randint(1,10) for x in range (A.shape[0])])\n",
    "   Lambda = 0\n",
    "   while (True):\n",
    "       aLambda = Lambda\n",
    "       AX = np.dot(A,X) # approximation du vecteur propre associé\n",
    "       Lambda = norme(AX) # approximation de lambda\n",
    "       X = AX / Lambda\n",
    "       if (abs(Lambda - aLambda) < l ):\n",
    "           return X,Lambda\n",
    "\n",
    "\n",
    "C2 = np.array([[2, 3], [1, 0]])\n",
    "X, Lambda = puissanceItere(1e-6, C2)\n",
    "print(\"Vecteur propre approximé :\", X)\n",
    "print(\"Valeur propre approximée :\", Lambda)\n",
    "print(\"--------------------------------------\")\n",
    "C3 = np.array([[4,1,0], [1,3,1], [0,1,2]])\n",
    "X, Lambda = puissanceItere(1e-6, C3)\n",
    "print(\"Vecteur propre approximé :\", X)\n",
    "print(\"Valeur propre approximée :\", Lambda)\n",
    "print(\"--------------------------------------\")\n",
    "C4 = np.array([[4, 1, 0, 0],[1, 3, 1, 0],[0, 1, 2, 1],[0, 0, 1, 1]])\n",
    "X, Lambda = puissanceItere(1e-6, C4)\n",
    "print(\"Vecteur propre approximé :\", X)\n",
    "print(\"Valeur propre approximée :\", Lambda)"
   ]
  },
  {
   "cell_type": "markdown",
   "id": "c999478e",
   "metadata": {},
   "source": [
    "##### 2. Implementer cet algorithme pour calculer le score de chacune des pages du graphe precedent. On verifiera que le vecteur de score obtenu est bien approximativement solution de r = Qr.\n"
   ]
  },
  {
   "cell_type": "code",
   "execution_count": null,
   "id": "4bd3b0fc",
   "metadata": {},
   "outputs": [
    {
     "name": "stdout",
     "output_type": "stream",
     "text": [
      "1 :  0.12984403106662662\n",
      "2 :  0.02596838184008328\n",
      "3 :  0.034624356162225214\n",
      "4 :  0.08078837342005901\n",
      "5 :  0.0750177417640923\n",
      "6 :  0.15584751009697317\n",
      "7 :  0.05194926089129692\n",
      "8 :  0.10389862001658065\n",
      "9 :  0.05194926089129692\n",
      "10 :  0.1298991587937131\n",
      "11 :  0.02598030380090678\n",
      "12 :  0.03464057520938561\n",
      "13 :  0.04330093860595845\n",
      "14 :  0.056291487440802375\n",
      "sum  1.0000000000000004\n"
     ]
    }
   ],
   "source": [
    "def score(C:np.array,precision):\n",
    "    sum_col = C.sum(axis=0)\n",
    "    sum_col[sum_col == 0] = 1\n",
    "    Q = C/sum_col\n",
    "    r = np.array([1/C.shape[0] for i in range(C.shape[0])])\n",
    "    while (True):\n",
    "        r_nouv = r\n",
    "        r = np.dot(Q,r) # approximation du vecteur propre associé\n",
    "        if ( np.allclose(r_nouv, r, atol=precision)):\n",
    "            return r_nouv\n",
    "        \n",
    "\n",
    "\n",
    "C = np.array([\n",
    "    [0,1,1,1,1,0,1,0,0,0,0,0,0,0],\n",
    "    [1,0,0,0,0,0,0,0,0,0,0,0,0,0],\n",
    "    [1,1,0,0,0,0,0,0,0,0,0,0,0,0],\n",
    "    [1,0,1,0,1,0,0,0,0,0,0,0,0,0],\n",
    "    [1,1,0,1,0,0,0,0,0,0,0,0,0,0],\n",
    "    [1,0,0,0,0,0,0,1,0,1,0,0,0,0],\n",
    "    [0,0,0,0,0,1,0,0,0,0,0,0,0,0],\n",
    "    [0,0,0,0,0,1,1,0,1,0,0,0,0,0],\n",
    "    [0,0,0,0,0,1,0,0,0,0,0,0,0,0],\n",
    "    [0,0,0,0,0,0,0,0,1,0,1,1,1,1],\n",
    "    [0,0,0,0,0,0,0,0,0,1,0,0,0,0],\n",
    "    [0,0,0,0,0,0,0,0,0,1,1,0,0,0],\n",
    "    [0,0,0,0,0,0,0,0,0,1,0,1,0,0],\n",
    "    [0,0,0,0,0,0,0,0,0,1,1,0,1,0]\n",
    "])\n",
    "t = score (C,1e-6)\n",
    "sum = 0 \n",
    "for i in range (len(t)):\n",
    "    print (i+1,\": \",t[i])\n",
    "    sum += t[i]\n",
    "print(\"somme \",sum)"
   ]
  },
  {
   "cell_type": "markdown",
   "id": "54499c36",
   "metadata": {},
   "source": [
    "##### 3. Analyser la pertinence du resultat obtenu.\n",
    "Pour verifier mes resultats, étant donné que les vecteurs obtenue traduisent une probabilité il faut que la somme global soit d'environ 1. C'est le cas ce qui me laisse penser que les resultats sont corrects.\n",
    "Ici on obtient le score de chaque noeuds (pages), on voit que le noeud 6 est celui avec le meilleur score ce sera donc la page la mieux classé par PageRank. Elle a le meilleur score car elle est celle vers qui les liens pointe le plus. L'importance de ses enfants lui donne la plus grand importance global."
   ]
  }
 ],
 "metadata": {
  "kernelspec": {
   "display_name": "Python 3",
   "language": "python",
   "name": "python3"
  },
  "language_info": {
   "codemirror_mode": {
    "name": "ipython",
    "version": 3
   },
   "file_extension": ".py",
   "mimetype": "text/x-python",
   "name": "python",
   "nbconvert_exporter": "python",
   "pygments_lexer": "ipython3",
   "version": "3.11.9"
  }
 },
 "nbformat": 4,
 "nbformat_minor": 5
}
