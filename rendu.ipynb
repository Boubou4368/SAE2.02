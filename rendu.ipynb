{
 "cells": [
  {
   "cell_type": "markdown",
   "id": "104303b1",
   "metadata": {},
   "source": [
    "## Partie 1 : PageRank - version itérative, premier exemple"
   ]
  },
  {
   "cell_type": "markdown",
   "id": "47115d81",
   "metadata": {},
   "source": [
    "##### 1. Justifier pourquoi l’algorithme de la puissance iterérée permet de calculer le score de chacune des pages. \n",
    "\n",
    "Dans un premier temps il faut que la matrice symbolysant le web soit une matrice stochastique, c'est une matrice de probabilité ou la somme de chaque colonne doit être égal à 1, elle traduit la probabilité de se rendre sur une autre page depuis la page courante. En appliquant l'algorythme de puissance itértée sur celle-ci on obtient des vecteurs propre pour chaque point de la matrice. Ces vecteurs nous donne la probabilité de se retrouvé sur une page apres tant d'itération. Plus sa valeur est grande plus la page est fréquemment visité au cour des itérations.    \n",
    "\n"
   ]
  },
  {
   "cell_type": "code",
   "execution_count": 8,
   "id": "241b560f",
   "metadata": {},
   "outputs": [],
   "source": [
    "from random import randint\n",
    "import numpy as np\n",
    "from math import sqrt"
   ]
  },
  {
   "cell_type": "code",
   "execution_count": 9,
   "id": "4f3a8e5d",
   "metadata": {},
   "outputs": [
    {
     "name": "stdout",
     "output_type": "stream",
     "text": [
      "3.605551275463989\n"
     ]
    }
   ],
   "source": [
    "#fonction pour la norme\n",
    "def norme(X:np.array):\n",
    "    sum = 0 \n",
    "    for x in X:\n",
    "        sum += x**2\n",
    "    return np.sqrt(sum)\n",
    "\n",
    "V = np.array([2,0,0,3])\n",
    "print(norme(V))"
   ]
  },
  {
   "cell_type": "code",
   "execution_count": 20,
   "id": "c605152a",
   "metadata": {},
   "outputs": [
    {
     "name": "stdout",
     "output_type": "stream",
     "text": [
      "Vecteur propre approximé : [0.94868329 0.31622778]\n",
      "Valeur propre approximée : 2.9999999123875525\n",
      "--------------------------------------\n",
      "Vecteur propre approximé : [0.78886698 0.57715835 0.21113297]\n",
      "Valeur propre approximée : 4.732050418674707\n",
      "--------------------------------------\n",
      "Vecteur propre approximé : [0.77773019 0.57997314 0.2342019  0.06258108]\n",
      "Valeur propre approximée : 4.7452807772489995\n"
     ]
    }
   ],
   "source": [
    "\n",
    "def puissanceItere(l,A:np.array):\n",
    "   \"\"\"Fonction qui applique l'algorithme de puissance itérée sur une matrice. \n",
    "   Matrice de toutes tailles, stochastique ou non\"\"\"\n",
    "   X = np.array([randint(1,10) for x in range (A.shape[0])])\n",
    "   Lambda = 0\n",
    "   while (True):\n",
    "       aLambda = Lambda\n",
    "       AX = np.dot(A,X) # approximation du vecteur propre associé\n",
    "       Lambda = norme(AX) # approximation de lambda\n",
    "       X = AX / Lambda\n",
    "       if (abs(Lambda - aLambda) < l ):\n",
    "           return X,Lambda\n",
    "\n",
    "\n",
    "C2 = np.array([[2, 3], [1, 0]])\n",
    "X, Lambda = puissanceItere(1e-6, C2)\n",
    "print(\"Vecteur propre approximé :\", X)\n",
    "print(\"Valeur propre approximée :\", Lambda)\n",
    "print(\"--------------------------------------\")\n",
    "C3 = np.array([[4,1,0], [1,3,1], [0,1,2]])\n",
    "X, Lambda = puissanceItere(1e-6, C3)\n",
    "print(\"Vecteur propre approximé :\", X)\n",
    "print(\"Valeur propre approximée :\", Lambda)\n",
    "print(\"--------------------------------------\")\n",
    "C4 = np.array([[4, 1, 0, 0],[1, 3, 1, 0],[0, 1, 2, 1],[0, 0, 1, 1]])\n",
    "X, Lambda = puissanceItere(1e-6, C4)\n",
    "print(\"Vecteur propre approximé :\", X)\n",
    "print(\"Valeur propre approximée :\", Lambda)"
   ]
  },
  {
   "cell_type": "code",
   "execution_count": null,
   "id": "95ac863c",
   "metadata": {},
   "outputs": [],
   "source": []
  }
 ],
 "metadata": {
  "kernelspec": {
   "display_name": "Python 3",
   "language": "python",
   "name": "python3"
  },
  "language_info": {
   "codemirror_mode": {
    "name": "ipython",
    "version": 3
   },
   "file_extension": ".py",
   "mimetype": "text/x-python",
   "name": "python",
   "nbconvert_exporter": "python",
   "pygments_lexer": "ipython3",
   "version": "3.11.9"
  }
 },
 "nbformat": 4,
 "nbformat_minor": 5
}
